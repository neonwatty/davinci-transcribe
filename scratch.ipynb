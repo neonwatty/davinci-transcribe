{
 "cells": [
  {
   "cell_type": "code",
   "execution_count": 3,
   "metadata": {},
   "outputs": [
    {
     "ename": "ImportError",
     "evalue": "dlopen(/Applications/DaVinci Resolve/DaVinci Resolve.app/Contents/Libraries/Fusion/fusionscript.so, 0x0002): tried: '/Applications/DaVinci Resolve/DaVinci Resolve.app/Contents/Libraries/Fusion/fusionscript.so' (no such file), '/System/Volumes/Preboot/Cryptexes/OS/Applications/DaVinci Resolve/DaVinci Resolve.app/Contents/Libraries/Fusion/fusionscript.so' (no such file), '/Applications/DaVinci Resolve/DaVinci Resolve.app/Contents/Libraries/Fusion/fusionscript.so' (no such file)",
     "output_type": "error",
     "traceback": [
      "\u001b[31m---------------------------------------------------------------------------\u001b[39m",
      "\u001b[31mModuleNotFoundError\u001b[39m                       Traceback (most recent call last)",
      "\u001b[36mFile \u001b[39m\u001b[32m~/Library/Containers/com.blackmagic-design.DaVinciResolveLite/Data/Library/Application Support/Developer/Scripting/Modules/DaVinciResolveScript.py:25\u001b[39m\n\u001b[32m     24\u001b[39m \u001b[38;5;28;01mtry\u001b[39;00m:\n\u001b[32m---> \u001b[39m\u001b[32m25\u001b[39m     \u001b[38;5;28;01mimport\u001b[39;00m\u001b[38;5;250m \u001b[39m\u001b[34;01mfusionscript\u001b[39;00m\u001b[38;5;250m \u001b[39m\u001b[38;5;28;01mas\u001b[39;00m\u001b[38;5;250m \u001b[39m\u001b[34;01mscript_module\u001b[39;00m\n\u001b[32m     26\u001b[39m \u001b[38;5;28;01mexcept\u001b[39;00m \u001b[38;5;167;01mImportError\u001b[39;00m:\n\u001b[32m     27\u001b[39m     \u001b[38;5;66;03m# Look for installer based environment variables:\u001b[39;00m\n",
      "\u001b[31mModuleNotFoundError\u001b[39m: No module named 'fusionscript'",
      "\nDuring handling of the above exception, another exception occurred:\n",
      "\u001b[31mImportError\u001b[39m                               Traceback (most recent call last)",
      "\u001b[36mCell\u001b[39m\u001b[36m \u001b[39m\u001b[32mIn[3]\u001b[39m\u001b[32m, line 4\u001b[39m\n\u001b[32m      2\u001b[39m \u001b[38;5;28;01mimport\u001b[39;00m\u001b[38;5;250m \u001b[39m\u001b[34;01msys\u001b[39;00m\n\u001b[32m      3\u001b[39m sys.path.append(\u001b[33m'\u001b[39m\u001b[33m/Library/Application Support/Blackmagic Design/DaVinci Resolve/Developer/Scripting/Modules\u001b[39m\u001b[33m'\u001b[39m)\n\u001b[32m----> \u001b[39m\u001b[32m4\u001b[39m \u001b[38;5;28;01mimport\u001b[39;00m\u001b[38;5;250m \u001b[39m\u001b[34;01mDaVinciResolveScript\u001b[39;00m\u001b[38;5;250m \u001b[39m\u001b[38;5;28;01mas\u001b[39;00m\u001b[38;5;250m \u001b[39m\u001b[34;01mdvr_script\u001b[39;00m\n\u001b[32m      5\u001b[39m resolve = dvr_script.scriptapp(\u001b[33m\"\u001b[39m\u001b[33mResolve\u001b[39m\u001b[33m\"\u001b[39m)\n\u001b[32m      6\u001b[39m fusion = resolve.Fusion()\n",
      "\u001b[36mFile \u001b[39m\u001b[32m~/Library/Containers/com.blackmagic-design.DaVinciResolveLite/Data/Library/Application Support/Developer/Scripting/Modules/DaVinciResolveScript.py:46\u001b[39m\n\u001b[32m     43\u001b[39m         \u001b[38;5;28;01melif\u001b[39;00m sys.platform.startswith(\u001b[33m\"\u001b[39m\u001b[33mlinux\u001b[39m\u001b[33m\"\u001b[39m):\n\u001b[32m     44\u001b[39m             path = \u001b[33m\"\u001b[39m\u001b[33m/opt/resolve/libs/Fusion/\u001b[39m\u001b[33m\"\u001b[39m\n\u001b[32m---> \u001b[39m\u001b[32m46\u001b[39m         script_module = \u001b[43mload_dynamic\u001b[49m\u001b[43m(\u001b[49m\u001b[33;43m\"\u001b[39;49m\u001b[33;43mfusionscript\u001b[39;49m\u001b[33;43m\"\u001b[39;49m\u001b[43m,\u001b[49m\u001b[43m \u001b[49m\u001b[43mpath\u001b[49m\u001b[43m \u001b[49m\u001b[43m+\u001b[49m\u001b[43m \u001b[49m\u001b[33;43m\"\u001b[39;49m\u001b[33;43mfusionscript\u001b[39;49m\u001b[33;43m\"\u001b[39;49m\u001b[43m \u001b[49m\u001b[43m+\u001b[49m\u001b[43m \u001b[49m\u001b[43mext\u001b[49m\u001b[43m)\u001b[49m\n\u001b[32m     48\u001b[39m \u001b[38;5;28;01mif\u001b[39;00m script_module:\n\u001b[32m     49\u001b[39m     sys.modules[\u001b[34m__name__\u001b[39m] = script_module\n",
      "\u001b[36mFile \u001b[39m\u001b[32m~/Library/Containers/com.blackmagic-design.DaVinciResolveLite/Data/Library/Application Support/Developer/Scripting/Modules/DaVinciResolveScript.py:15\u001b[39m, in \u001b[36mload_dynamic\u001b[39m\u001b[34m(module_name, file_path)\u001b[39m\n\u001b[32m     13\u001b[39m     spec = importlib.util.spec_from_loader(module_name, loader)\n\u001b[32m     14\u001b[39m \u001b[38;5;28;01mif\u001b[39;00m spec:\n\u001b[32m---> \u001b[39m\u001b[32m15\u001b[39m     module = \u001b[43mimportlib\u001b[49m\u001b[43m.\u001b[49m\u001b[43mutil\u001b[49m\u001b[43m.\u001b[49m\u001b[43mmodule_from_spec\u001b[49m\u001b[43m(\u001b[49m\u001b[43mspec\u001b[49m\u001b[43m)\u001b[49m\n\u001b[32m     16\u001b[39m \u001b[38;5;28;01mif\u001b[39;00m module:\n\u001b[32m     17\u001b[39m     loader.exec_module(module)\n",
      "\u001b[31mImportError\u001b[39m: dlopen(/Applications/DaVinci Resolve/DaVinci Resolve.app/Contents/Libraries/Fusion/fusionscript.so, 0x0002): tried: '/Applications/DaVinci Resolve/DaVinci Resolve.app/Contents/Libraries/Fusion/fusionscript.so' (no such file), '/System/Volumes/Preboot/Cryptexes/OS/Applications/DaVinci Resolve/DaVinci Resolve.app/Contents/Libraries/Fusion/fusionscript.so' (no such file), '/Applications/DaVinci Resolve/DaVinci Resolve.app/Contents/Libraries/Fusion/fusionscript.so' (no such file)"
     ]
    }
   ],
   "source": [
    "import os\n",
    "import sys\n",
    "sys.path.append('/Library/Application Support/Blackmagic Design/DaVinci Resolve/Developer/Scripting/Modules')\n",
    "import DaVinciResolveScript as dvr_script\n",
    "resolve = dvr_script.scriptapp(\"Resolve\")\n",
    "fusion = resolve.Fusion()"
   ]
  },
  {
   "cell_type": "code",
   "execution_count": null,
   "metadata": {},
   "outputs": [],
   "source": [
    "import sys\n",
    "import os\n",
    "\n",
    "\n",
    "\n",
    "\n",
    "# Detect the operating system\n",
    "if sys.platform == \"darwin\":  # macOS\n",
    "    dvr_path = \"/Users/jeremywatt/Library/Containers/com.blackmagic-design.DaVinciResolveLite/Data/Library/Application Support/Developer/Scripting/Modules/\"\n",
    "elif sys.platform == \"win32\":  # Windows\n",
    "    dvr_path = r\"C:\\Program Files\\Blackmagic Design\\DaVinci Resolve\\Developer\\Scripting\\Modules\"\n",
    "elif sys.platform == \"linux\" or sys.platform == \"linux2\":  # Linux\n",
    "    dvr_path = \"/opt/resolve/Developer/Scripting/Modules/\"\n",
    "else:\n",
    "    raise EnvironmentError(\"Unsupported OS\")\n",
    "\n",
    "# Add the correct path to sys.path\n",
    "sys.path.append(dvr_path)\n",
    "\n",
    "            path = \"/Applications/DaVinci Resolve/DaVinci Resolve.app/Contents/Libraries/Fusion/\"\n"
   ]
  },
  {
   "cell_type": "code",
   "execution_count": 2,
   "metadata": {},
   "outputs": [
    {
     "ename": "ImportError",
     "evalue": "dlopen(/Applications/DaVinci Resolve/DaVinci Resolve.app/Contents/Libraries/Fusion/fusionscript.so, 0x0002): tried: '/Applications/DaVinci Resolve/DaVinci Resolve.app/Contents/Libraries/Fusion/fusionscript.so' (no such file), '/System/Volumes/Preboot/Cryptexes/OS/Applications/DaVinci Resolve/DaVinci Resolve.app/Contents/Libraries/Fusion/fusionscript.so' (no such file), '/Applications/DaVinci Resolve/DaVinci Resolve.app/Contents/Libraries/Fusion/fusionscript.so' (no such file)",
     "output_type": "error",
     "traceback": [
      "\u001b[31m---------------------------------------------------------------------------\u001b[39m",
      "\u001b[31mModuleNotFoundError\u001b[39m                       Traceback (most recent call last)",
      "\u001b[36mFile \u001b[39m\u001b[32m~/Library/Containers/com.blackmagic-design.DaVinciResolveLite/Data/Library/Application Support/Developer/Scripting/Modules/DaVinciResolveScript.py:25\u001b[39m\n\u001b[32m     24\u001b[39m \u001b[38;5;28;01mtry\u001b[39;00m:\n\u001b[32m---> \u001b[39m\u001b[32m25\u001b[39m     \u001b[38;5;28;01mimport\u001b[39;00m\u001b[38;5;250m \u001b[39m\u001b[34;01mfusionscript\u001b[39;00m\u001b[38;5;250m \u001b[39m\u001b[38;5;28;01mas\u001b[39;00m\u001b[38;5;250m \u001b[39m\u001b[34;01mscript_module\u001b[39;00m\n\u001b[32m     26\u001b[39m \u001b[38;5;28;01mexcept\u001b[39;00m \u001b[38;5;167;01mImportError\u001b[39;00m:\n\u001b[32m     27\u001b[39m     \u001b[38;5;66;03m# Look for installer based environment variables:\u001b[39;00m\n",
      "\u001b[31mModuleNotFoundError\u001b[39m: No module named 'fusionscript'",
      "\nDuring handling of the above exception, another exception occurred:\n",
      "\u001b[31mImportError\u001b[39m                               Traceback (most recent call last)",
      "\u001b[36mCell\u001b[39m\u001b[36m \u001b[39m\u001b[32mIn[2]\u001b[39m\u001b[32m, line 2\u001b[39m\n\u001b[32m      1\u001b[39m \u001b[38;5;66;03m# Import DaVinci Resolve Script module\u001b[39;00m\n\u001b[32m----> \u001b[39m\u001b[32m2\u001b[39m \u001b[38;5;28;01mimport\u001b[39;00m\u001b[38;5;250m \u001b[39m\u001b[34;01mDaVinciResolveScript\u001b[39;00m\u001b[38;5;250m \u001b[39m\u001b[38;5;28;01mas\u001b[39;00m\u001b[38;5;250m \u001b[39m\u001b[34;01mdvr\u001b[39;00m\n",
      "\u001b[36mFile \u001b[39m\u001b[32m~/Library/Containers/com.blackmagic-design.DaVinciResolveLite/Data/Library/Application Support/Developer/Scripting/Modules/DaVinciResolveScript.py:46\u001b[39m\n\u001b[32m     43\u001b[39m         \u001b[38;5;28;01melif\u001b[39;00m sys.platform.startswith(\u001b[33m\"\u001b[39m\u001b[33mlinux\u001b[39m\u001b[33m\"\u001b[39m):\n\u001b[32m     44\u001b[39m             path = \u001b[33m\"\u001b[39m\u001b[33m/opt/resolve/libs/Fusion/\u001b[39m\u001b[33m\"\u001b[39m\n\u001b[32m---> \u001b[39m\u001b[32m46\u001b[39m         script_module = \u001b[43mload_dynamic\u001b[49m\u001b[43m(\u001b[49m\u001b[33;43m\"\u001b[39;49m\u001b[33;43mfusionscript\u001b[39;49m\u001b[33;43m\"\u001b[39;49m\u001b[43m,\u001b[49m\u001b[43m \u001b[49m\u001b[43mpath\u001b[49m\u001b[43m \u001b[49m\u001b[43m+\u001b[49m\u001b[43m \u001b[49m\u001b[33;43m\"\u001b[39;49m\u001b[33;43mfusionscript\u001b[39;49m\u001b[33;43m\"\u001b[39;49m\u001b[43m \u001b[49m\u001b[43m+\u001b[49m\u001b[43m \u001b[49m\u001b[43mext\u001b[49m\u001b[43m)\u001b[49m\n\u001b[32m     48\u001b[39m \u001b[38;5;28;01mif\u001b[39;00m script_module:\n\u001b[32m     49\u001b[39m     sys.modules[\u001b[34m__name__\u001b[39m] = script_module\n",
      "\u001b[36mFile \u001b[39m\u001b[32m~/Library/Containers/com.blackmagic-design.DaVinciResolveLite/Data/Library/Application Support/Developer/Scripting/Modules/DaVinciResolveScript.py:15\u001b[39m, in \u001b[36mload_dynamic\u001b[39m\u001b[34m(module_name, file_path)\u001b[39m\n\u001b[32m     13\u001b[39m     spec = importlib.util.spec_from_loader(module_name, loader)\n\u001b[32m     14\u001b[39m \u001b[38;5;28;01mif\u001b[39;00m spec:\n\u001b[32m---> \u001b[39m\u001b[32m15\u001b[39m     module = \u001b[43mimportlib\u001b[49m\u001b[43m.\u001b[49m\u001b[43mutil\u001b[49m\u001b[43m.\u001b[49m\u001b[43mmodule_from_spec\u001b[49m\u001b[43m(\u001b[49m\u001b[43mspec\u001b[49m\u001b[43m)\u001b[49m\n\u001b[32m     16\u001b[39m \u001b[38;5;28;01mif\u001b[39;00m module:\n\u001b[32m     17\u001b[39m     loader.exec_module(module)\n",
      "\u001b[31mImportError\u001b[39m: dlopen(/Applications/DaVinci Resolve/DaVinci Resolve.app/Contents/Libraries/Fusion/fusionscript.so, 0x0002): tried: '/Applications/DaVinci Resolve/DaVinci Resolve.app/Contents/Libraries/Fusion/fusionscript.so' (no such file), '/System/Volumes/Preboot/Cryptexes/OS/Applications/DaVinci Resolve/DaVinci Resolve.app/Contents/Libraries/Fusion/fusionscript.so' (no such file), '/Applications/DaVinci Resolve/DaVinci Resolve.app/Contents/Libraries/Fusion/fusionscript.so' (no such file)"
     ]
    }
   ],
   "source": [
    "# Import DaVinci Resolve Script module\n",
    "import DaVinciResolveScript as dvr"
   ]
  },
  {
   "cell_type": "code",
   "execution_count": null,
   "metadata": {},
   "outputs": [],
   "source": []
  }
 ],
 "metadata": {
  "kernelspec": {
   "display_name": ".venv",
   "language": "python",
   "name": "python3"
  },
  "language_info": {
   "codemirror_mode": {
    "name": "ipython",
    "version": 3
   },
   "file_extension": ".py",
   "mimetype": "text/x-python",
   "name": "python",
   "nbconvert_exporter": "python",
   "pygments_lexer": "ipython3",
   "version": "3.12.0"
  }
 },
 "nbformat": 4,
 "nbformat_minor": 2
}
